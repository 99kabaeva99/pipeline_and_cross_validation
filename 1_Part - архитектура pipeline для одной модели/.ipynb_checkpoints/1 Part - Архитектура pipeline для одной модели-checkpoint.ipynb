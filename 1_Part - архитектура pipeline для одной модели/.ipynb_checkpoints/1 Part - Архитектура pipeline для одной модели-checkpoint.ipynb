{
 "cells": [
  {
   "cell_type": "markdown",
   "metadata": {},
   "source": [
    "# Архитектура pipeline для одной модели"
   ]
  },
  {
   "cell_type": "code",
   "execution_count": 1,
   "metadata": {},
   "outputs": [],
   "source": [
    "from sklearn.datasets import fetch_openml\n",
    "\n",
    "from sklearn.pipeline import Pipeline\n",
    "from sklearn.impute import SimpleImputer\n",
    "from sklearn.preprocessing import StandardScaler, OneHotEncoder, RobustScaler, MinMaxScaler\n",
    "\n",
    "from sklearn.compose import ColumnTransformer\n",
    "from sklearn.decomposition import PCA\n",
    "\n",
    "from sklearn.linear_model import LogisticRegression\n",
    "from sklearn.model_selection import GridSearchCV\n",
    "from sklearn.metrics import classification_report\n",
    "import pandas as pd\n",
    "\n",
    "from sklearn import set_config \n",
    "\n",
    "from sklearn.metrics import accuracy_score\n",
    "from sklearn.metrics import roc_auc_score"
   ]
  },
  {
   "cell_type": "code",
   "execution_count": 2,
   "metadata": {},
   "outputs": [],
   "source": [
    "X, y = fetch_openml(\"titanic\", \n",
    "                    version=1, \n",
    "                    as_frame=True, \n",
    "                    return_X_y=True)"
   ]
  },
  {
   "cell_type": "code",
   "execution_count": 3,
   "metadata": {},
   "outputs": [
    {
     "data": {
      "text/html": [
       "<div>\n",
       "<style scoped>\n",
       "    .dataframe tbody tr th:only-of-type {\n",
       "        vertical-align: middle;\n",
       "    }\n",
       "\n",
       "    .dataframe tbody tr th {\n",
       "        vertical-align: top;\n",
       "    }\n",
       "\n",
       "    .dataframe thead th {\n",
       "        text-align: right;\n",
       "    }\n",
       "</style>\n",
       "<table border=\"1\" class=\"dataframe\">\n",
       "  <thead>\n",
       "    <tr style=\"text-align: right;\">\n",
       "      <th></th>\n",
       "      <th>pclass</th>\n",
       "      <th>name</th>\n",
       "      <th>sex</th>\n",
       "      <th>age</th>\n",
       "      <th>sibsp</th>\n",
       "      <th>parch</th>\n",
       "      <th>ticket</th>\n",
       "      <th>fare</th>\n",
       "      <th>cabin</th>\n",
       "      <th>embarked</th>\n",
       "      <th>boat</th>\n",
       "      <th>body</th>\n",
       "      <th>home.dest</th>\n",
       "    </tr>\n",
       "  </thead>\n",
       "  <tbody>\n",
       "    <tr>\n",
       "      <th>0</th>\n",
       "      <td>1.0</td>\n",
       "      <td>Allen, Miss. Elisabeth Walton</td>\n",
       "      <td>female</td>\n",
       "      <td>29.0000</td>\n",
       "      <td>0.0</td>\n",
       "      <td>0.0</td>\n",
       "      <td>24160</td>\n",
       "      <td>211.3375</td>\n",
       "      <td>B5</td>\n",
       "      <td>S</td>\n",
       "      <td>2</td>\n",
       "      <td>NaN</td>\n",
       "      <td>St Louis, MO</td>\n",
       "    </tr>\n",
       "    <tr>\n",
       "      <th>1</th>\n",
       "      <td>1.0</td>\n",
       "      <td>Allison, Master. Hudson Trevor</td>\n",
       "      <td>male</td>\n",
       "      <td>0.9167</td>\n",
       "      <td>1.0</td>\n",
       "      <td>2.0</td>\n",
       "      <td>113781</td>\n",
       "      <td>151.5500</td>\n",
       "      <td>C22 C26</td>\n",
       "      <td>S</td>\n",
       "      <td>11</td>\n",
       "      <td>NaN</td>\n",
       "      <td>Montreal, PQ / Chesterville, ON</td>\n",
       "    </tr>\n",
       "  </tbody>\n",
       "</table>\n",
       "</div>"
      ],
      "text/plain": [
       "   pclass                            name     sex      age  sibsp  parch  \\\n",
       "0     1.0   Allen, Miss. Elisabeth Walton  female  29.0000    0.0    0.0   \n",
       "1     1.0  Allison, Master. Hudson Trevor    male   0.9167    1.0    2.0   \n",
       "\n",
       "   ticket      fare    cabin embarked boat  body  \\\n",
       "0   24160  211.3375       B5        S    2   NaN   \n",
       "1  113781  151.5500  C22 C26        S   11   NaN   \n",
       "\n",
       "                         home.dest  \n",
       "0                     St Louis, MO  \n",
       "1  Montreal, PQ / Chesterville, ON  "
      ]
     },
     "execution_count": 3,
     "metadata": {},
     "output_type": "execute_result"
    }
   ],
   "source": [
    "X.head(2)"
   ]
  },
  {
   "cell_type": "code",
   "execution_count": 4,
   "metadata": {},
   "outputs": [
    {
     "data": {
      "text/plain": [
       "0       1\n",
       "1       1\n",
       "2       0\n",
       "3       0\n",
       "4       0\n",
       "       ..\n",
       "1304    0\n",
       "1305    0\n",
       "1306    0\n",
       "1307    0\n",
       "1308    0\n",
       "Name: survived, Length: 1309, dtype: category\n",
       "Categories (2, object): [0, 1]"
      ]
     },
     "execution_count": 4,
     "metadata": {},
     "output_type": "execute_result"
    }
   ],
   "source": [
    "y"
   ]
  },
  {
   "cell_type": "code",
   "execution_count": 5,
   "metadata": {},
   "outputs": [],
   "source": [
    "from sklearn.model_selection import train_test_split\n",
    "X_train, X_test, y_train, y_test = train_test_split(X, y, test_size=0.2)"
   ]
  },
  {
   "cell_type": "code",
   "execution_count": 6,
   "metadata": {},
   "outputs": [],
   "source": [
    "# Числовые признаки\n",
    "numerical_features = ['age', 'fare']\n",
    "\n",
    "# Категориальные признаки\n",
    "categorical_features = ['embarked', 'sex', 'pclass']"
   ]
  },
  {
   "cell_type": "code",
   "execution_count": 7,
   "metadata": {},
   "outputs": [],
   "source": [
    "# Применяем SimpleImputer и будем искать различные скейлеры с помощью GridSearchCV\n",
    "numerical_transformer = Pipeline(steps=[('imputer', SimpleImputer()),\n",
    "                                        ('scaler', 'passthrough')])\n",
    "\n",
    "# Применение SimpleImputer, а затем OneHotEncoder\n",
    "categorical_transformer = Pipeline(steps=[('imputer', SimpleImputer()),\n",
    "                                          ('onehot', OneHotEncoder(handle_unknown='ignore'))])\n",
    "\n",
    "# Собираем воедино трансформеры для числовых и категориальных признаков\n",
    "data_transformer = ColumnTransformer(transformers=[\n",
    "                                    ('numerical', numerical_transformer, numerical_features),\n",
    "                                    ('categorical', categorical_transformer, categorical_features)])\n",
    "\n",
    "\n",
    "# Создание конвейера препроцессора, который сначала преобразует данные и затем применяет PCA.\n",
    "preprocessor = Pipeline(steps=[('data_transformer', data_transformer),\n",
    "                               ('reduce_dim',PCA())])\n",
    "\n",
    "# we are using Logistics Regression here\n",
    "classifier = Pipeline(steps=[('preprocessor', preprocessor),\n",
    "                             ('classifier', LogisticRegression(random_state=0, max_iter=10000))])"
   ]
  },
  {
   "cell_type": "markdown",
   "metadata": {},
   "source": [
    "Важно понимать, что мы используем каскад вложенных конвейеров для удобства. Чтобы использовать GridSearchCV, необходимо передать параметрыв свой вложенный конвейер.\n",
    "\n",
    "Разберем на примере. У нас есть следующая запись:    \n",
    "**preprocessor__data_transformer__numerical__imputer__strategy: ['mean', 'median']**       \n",
    "Эта запись означает, что в конвейере **preprocessor** есть вложенный конвейер **data_transformer**, в котором находится вложенный конвейер **numerical**, в котором находится трансформер **imputer** и у него есть параметр **strategy**, который и будет принимать значения **mean** и **median**.\n",
    "\n",
    "С трансформером  **scaler** еще интереснее. У него указано название, а вместо самого трансформера стоит **passthrough**. Это означает, чтомы можем туда передать не сами параметры трансформера, а разные трансформеры!"
   ]
  },
  {
   "cell_type": "code",
   "execution_count": 8,
   "metadata": {},
   "outputs": [],
   "source": [
    "# Мы можем использовать сетку параметров для проверки лучших гиперпараметров или трансформаторов.\n",
    "param_grid = {\n",
    "    'preprocessor__data_transformer__numerical__imputer__strategy': ['mean', 'median'],\n",
    "    'preprocessor__data_transformer__categorical__imputer__strategy': ['constant','most_frequent'],\n",
    "    'preprocessor__data_transformer__numerical__scaler': [StandardScaler(), RobustScaler(), \\\n",
    "                                                          MinMaxScaler()],\n",
    "    'classifier__C': [0.1, 1.0, 10, 100],\n",
    "    'preprocessor__reduce_dim__n_components': [2, 5, 10],\n",
    "    'classifier__solver': ['liblinear','newton-cg', 'lbfgs','sag','saga']\n",
    "}"
   ]
  },
  {
   "cell_type": "markdown",
   "metadata": {},
   "source": [
    "Можно красиво отрисовать внутреннюю работу конвейера. Для этого необходимо проделать следующее:\n",
    "\n",
    "\n",
    "```python\n",
    "from sklearn import set_config \n",
    "set_config(display='diagram')\n",
    "```\n",
    "Если у вас вылетает ошибка, то просто запустите следующую строку прямо в ноутбуке. Затем завершите ноутбук и потом вновь перезапустите.\n",
    "\n",
    "```python\n",
    "!pip install --upgrade scikit-learn\n",
    "```"
   ]
  },
  {
   "cell_type": "markdown",
   "metadata": {},
   "source": [
    "Здесь я специально импортировал одну из получающихся отрисовок, чтобы было видно, что получается. Не пренебрегайте такой отрисовокой, она очень полезна для понимания конвейера. \n",
    "PS: она интерактивна. Понажимайте на нее."
   ]
  },
  {
   "cell_type": "code",
   "execution_count": 17,
   "metadata": {},
   "outputs": [
    {
     "data": {
      "text/html": [
       "\n",
       "        <iframe\n",
       "            width=\"700\"\n",
       "            height=\"600\"\n",
       "            src=\"titanic_data_pipeline_estimator.html\"\n",
       "            frameborder=\"0\"\n",
       "            allowfullscreen\n",
       "        ></iframe>\n",
       "        "
      ],
      "text/plain": [
       "<IPython.lib.display.IFrame at 0x7fa0307e1490>"
      ]
     },
     "execution_count": 17,
     "metadata": {},
     "output_type": "execute_result"
    }
   ],
   "source": [
    "from IPython.display import IFrame\n",
    "\n",
    "IFrame(src='titanic_data_pipeline_estimator.html', width=700, height=600)"
   ]
  },
  {
   "cell_type": "raw",
   "metadata": {},
   "source": [
    "!pip install --upgrade scikit-learn"
   ]
  },
  {
   "cell_type": "code",
   "execution_count": 10,
   "metadata": {},
   "outputs": [],
   "source": [
    "set_config(display='diagram')"
   ]
  },
  {
   "cell_type": "markdown",
   "metadata": {},
   "source": [
    "## Обучение конвейера\n",
    "\n",
    "Как многим известно, GridSearchCV позволяет подобрать параметры лучшей модели. Но многие забывают ответить себе на вопрос - а что значит лучшая? В GridSearchCV есть специальный параметр **scoring**, который и определяет метрику, по которой выбирается лучшая модель. Не забывайте его указывать!"
   ]
  },
  {
   "cell_type": "code",
   "execution_count": 11,
   "metadata": {},
   "outputs": [
    {
     "data": {
      "text/html": [
       "<style>div.sk-top-container {color: black;background-color: white;}div.sk-toggleable {background-color: white;}label.sk-toggleable__label {cursor: pointer;display: block;width: 100%;margin-bottom: 0;padding: 0.2em 0.3em;box-sizing: border-box;text-align: center;}div.sk-toggleable__content {max-height: 0;max-width: 0;overflow: hidden;text-align: left;background-color: #f0f8ff;}div.sk-toggleable__content pre {margin: 0.2em;color: black;border-radius: 0.25em;background-color: #f0f8ff;}input.sk-toggleable__control:checked~div.sk-toggleable__content {max-height: 200px;max-width: 100%;overflow: auto;}div.sk-estimator input.sk-toggleable__control:checked~label.sk-toggleable__label {background-color: #d4ebff;}div.sk-label input.sk-toggleable__control:checked~label.sk-toggleable__label {background-color: #d4ebff;}input.sk-hidden--visually {border: 0;clip: rect(1px 1px 1px 1px);clip: rect(1px, 1px, 1px, 1px);height: 1px;margin: -1px;overflow: hidden;padding: 0;position: absolute;width: 1px;}div.sk-estimator {font-family: monospace;background-color: #f0f8ff;margin: 0.25em 0.25em;border: 1px dotted black;border-radius: 0.25em;box-sizing: border-box;}div.sk-estimator:hover {background-color: #d4ebff;}div.sk-parallel-item::after {content: \"\";width: 100%;border-bottom: 1px solid gray;flex-grow: 1;}div.sk-label:hover label.sk-toggleable__label {background-color: #d4ebff;}div.sk-serial::before {content: \"\";position: absolute;border-left: 1px solid gray;box-sizing: border-box;top: 2em;bottom: 0;left: 50%;}div.sk-serial {display: flex;flex-direction: column;align-items: center;background-color: white;}div.sk-item {z-index: 1;}div.sk-parallel {display: flex;align-items: stretch;justify-content: center;background-color: white;}div.sk-parallel-item {display: flex;flex-direction: column;position: relative;background-color: white;}div.sk-parallel-item:first-child::after {align-self: flex-end;width: 50%;}div.sk-parallel-item:last-child::after {align-self: flex-start;width: 50%;}div.sk-parallel-item:only-child::after {width: 0;}div.sk-dashed-wrapped {border: 1px dashed gray;margin: 0.2em;box-sizing: border-box;padding-bottom: 0.1em;background-color: white;position: relative;}div.sk-label label {font-family: monospace;font-weight: bold;background-color: white;display: inline-block;line-height: 1.2em;}div.sk-label-container {position: relative;z-index: 2;text-align: center;}div.sk-container {display: inline-block;position: relative;}</style><div class=\"sk-top-container\"><div class=\"sk-container\"><div class=\"sk-item sk-dashed-wrapped\"><div class=\"sk-label-container\"><div class=\"sk-label sk-toggleable\"><input class=\"sk-toggleable__control sk-hidden--visually\" id=\"a82532dc-41b4-4fbf-ad1b-ea3123575f77\" type=\"checkbox\" ><label class=\"sk-toggleable__label\" for=\"a82532dc-41b4-4fbf-ad1b-ea3123575f77\">GridSearchCV</label><div class=\"sk-toggleable__content\"><pre>GridSearchCV(estimator=Pipeline(steps=[('preprocessor',\n",
       "                                        Pipeline(steps=[('data_transformer',\n",
       "                                                         ColumnTransformer(transformers=[('numerical',\n",
       "                                                                                          Pipeline(steps=[('imputer',\n",
       "                                                                                                           SimpleImputer()),\n",
       "                                                                                                          ('scaler',\n",
       "                                                                                                           'passthrough')]),\n",
       "                                                                                          ['age',\n",
       "                                                                                           'fare']),\n",
       "                                                                                         ('categorical',\n",
       "                                                                                          Pipeline(steps=[('imputer',\n",
       "                                                                                                           SimpleImputer()),\n",
       "                                                                                                          ('onehot',\n",
       "                                                                                                           OneHotEncoder(handle_unknown='ignore'))]),\n",
       "                                                                                          ['embarked',\n",
       "                                                                                           'sex...\n",
       "                                                'lbfgs', 'sag', 'saga'],\n",
       "                         'preprocessor__data_transformer__categorical__imputer__strategy': ['constant',\n",
       "                                                                                            'most_frequent'],\n",
       "                         'preprocessor__data_transformer__numerical__imputer__strategy': ['mean',\n",
       "                                                                                          'median'],\n",
       "                         'preprocessor__data_transformer__numerical__scaler': [StandardScaler(),\n",
       "                                                                               RobustScaler(),\n",
       "                                                                               MinMaxScaler()],\n",
       "                         'preprocessor__reduce_dim__n_components': [2, 5, 10]},\n",
       "             scoring='accuracy')</pre></div></div></div><div class=\"sk-parallel\"><div class=\"sk-parallel-item\"><div class=\"sk-item\"><div class=\"sk-serial\"><div class=\"sk-item\"><div class=\"sk-serial\"><div class=\"sk-item\"><div class=\"sk-label-container\"><div class=\"sk-label sk-toggleable\"><input class=\"sk-toggleable__control sk-hidden--visually\" id=\"2c22c04f-e697-40a2-94c1-9441bd11766d\" type=\"checkbox\" ><label class=\"sk-toggleable__label\" for=\"2c22c04f-e697-40a2-94c1-9441bd11766d\">preprocessor: Pipeline</label><div class=\"sk-toggleable__content\"><pre>Pipeline(steps=[('data_transformer',\n",
       "                 ColumnTransformer(transformers=[('numerical',\n",
       "                                                  Pipeline(steps=[('imputer',\n",
       "                                                                   SimpleImputer()),\n",
       "                                                                  ('scaler',\n",
       "                                                                   'passthrough')]),\n",
       "                                                  ['age', 'fare']),\n",
       "                                                 ('categorical',\n",
       "                                                  Pipeline(steps=[('imputer',\n",
       "                                                                   SimpleImputer()),\n",
       "                                                                  ('onehot',\n",
       "                                                                   OneHotEncoder(handle_unknown='ignore'))]),\n",
       "                                                  ['embarked', 'sex',\n",
       "                                                   'pclass'])])),\n",
       "                ('reduce_dim', PCA())])</pre></div></div></div><div class=\"sk-serial\"><div class=\"sk-item sk-dashed-wrapped\"><div class=\"sk-label-container\"><div class=\"sk-label sk-toggleable\"><input class=\"sk-toggleable__control sk-hidden--visually\" id=\"3f3cfd99-26b1-47f2-9358-102fdc7f2904\" type=\"checkbox\" ><label class=\"sk-toggleable__label\" for=\"3f3cfd99-26b1-47f2-9358-102fdc7f2904\">data_transformer: ColumnTransformer</label><div class=\"sk-toggleable__content\"><pre>ColumnTransformer(transformers=[('numerical',\n",
       "                                 Pipeline(steps=[('imputer', SimpleImputer()),\n",
       "                                                 ('scaler', 'passthrough')]),\n",
       "                                 ['age', 'fare']),\n",
       "                                ('categorical',\n",
       "                                 Pipeline(steps=[('imputer', SimpleImputer()),\n",
       "                                                 ('onehot',\n",
       "                                                  OneHotEncoder(handle_unknown='ignore'))]),\n",
       "                                 ['embarked', 'sex', 'pclass'])])</pre></div></div></div><div class=\"sk-parallel\"><div class=\"sk-parallel-item\"><div class=\"sk-item\"><div class=\"sk-label-container\"><div class=\"sk-label sk-toggleable\"><input class=\"sk-toggleable__control sk-hidden--visually\" id=\"9fa6f003-aa37-4da4-84f2-1b929e752085\" type=\"checkbox\" ><label class=\"sk-toggleable__label\" for=\"9fa6f003-aa37-4da4-84f2-1b929e752085\">numerical</label><div class=\"sk-toggleable__content\"><pre>['age', 'fare']</pre></div></div></div><div class=\"sk-serial\"><div class=\"sk-item\"><div class=\"sk-serial\"><div class=\"sk-item\"><div class=\"sk-estimator sk-toggleable\"><input class=\"sk-toggleable__control sk-hidden--visually\" id=\"4897b30c-f892-4c60-b099-f556c20cf903\" type=\"checkbox\" ><label class=\"sk-toggleable__label\" for=\"4897b30c-f892-4c60-b099-f556c20cf903\">SimpleImputer</label><div class=\"sk-toggleable__content\"><pre>SimpleImputer()</pre></div></div></div><div class=\"sk-item\"><div class=\"sk-estimator sk-toggleable\"><input class=\"sk-toggleable__control sk-hidden--visually\" id=\"d8c10c22-4a7e-4107-a84a-f3205920e3c0\" type=\"checkbox\" ><label class=\"sk-toggleable__label\" for=\"d8c10c22-4a7e-4107-a84a-f3205920e3c0\">passthrough</label><div class=\"sk-toggleable__content\"><pre>passthrough</pre></div></div></div></div></div></div></div></div><div class=\"sk-parallel-item\"><div class=\"sk-item\"><div class=\"sk-label-container\"><div class=\"sk-label sk-toggleable\"><input class=\"sk-toggleable__control sk-hidden--visually\" id=\"a1efc7c1-44ef-4a25-838e-73622aa0fea3\" type=\"checkbox\" ><label class=\"sk-toggleable__label\" for=\"a1efc7c1-44ef-4a25-838e-73622aa0fea3\">categorical</label><div class=\"sk-toggleable__content\"><pre>['embarked', 'sex', 'pclass']</pre></div></div></div><div class=\"sk-serial\"><div class=\"sk-item\"><div class=\"sk-serial\"><div class=\"sk-item\"><div class=\"sk-estimator sk-toggleable\"><input class=\"sk-toggleable__control sk-hidden--visually\" id=\"85a11c20-c07b-4153-8c6c-3d83e053385c\" type=\"checkbox\" ><label class=\"sk-toggleable__label\" for=\"85a11c20-c07b-4153-8c6c-3d83e053385c\">SimpleImputer</label><div class=\"sk-toggleable__content\"><pre>SimpleImputer()</pre></div></div></div><div class=\"sk-item\"><div class=\"sk-estimator sk-toggleable\"><input class=\"sk-toggleable__control sk-hidden--visually\" id=\"3adde788-b70b-468c-88ee-f89adb88a172\" type=\"checkbox\" ><label class=\"sk-toggleable__label\" for=\"3adde788-b70b-468c-88ee-f89adb88a172\">OneHotEncoder</label><div class=\"sk-toggleable__content\"><pre>OneHotEncoder(handle_unknown='ignore')</pre></div></div></div></div></div></div></div></div></div></div><div class=\"sk-item\"><div class=\"sk-estimator sk-toggleable\"><input class=\"sk-toggleable__control sk-hidden--visually\" id=\"f070707d-cf63-4e1a-b37f-7fbc8f8b66d7\" type=\"checkbox\" ><label class=\"sk-toggleable__label\" for=\"f070707d-cf63-4e1a-b37f-7fbc8f8b66d7\">PCA</label><div class=\"sk-toggleable__content\"><pre>PCA()</pre></div></div></div></div></div><div class=\"sk-item\"><div class=\"sk-estimator sk-toggleable\"><input class=\"sk-toggleable__control sk-hidden--visually\" id=\"a0b749a9-07ef-4c08-ad05-9cc826637256\" type=\"checkbox\" ><label class=\"sk-toggleable__label\" for=\"a0b749a9-07ef-4c08-ad05-9cc826637256\">LogisticRegression</label><div class=\"sk-toggleable__content\"><pre>LogisticRegression(max_iter=10000, random_state=0)</pre></div></div></div></div></div></div></div></div></div></div></div></div>"
      ],
      "text/plain": [
       "GridSearchCV(estimator=Pipeline(steps=[('preprocessor',\n",
       "                                        Pipeline(steps=[('data_transformer',\n",
       "                                                         ColumnTransformer(transformers=[('numerical',\n",
       "                                                                                          Pipeline(steps=[('imputer',\n",
       "                                                                                                           SimpleImputer()),\n",
       "                                                                                                          ('scaler',\n",
       "                                                                                                           'passthrough')]),\n",
       "                                                                                          ['age',\n",
       "                                                                                           'fare']),\n",
       "                                                                                         ('categorical',\n",
       "                                                                                          Pipeline(steps=[('imputer',\n",
       "                                                                                                           SimpleImputer()),\n",
       "                                                                                                          ('onehot',\n",
       "                                                                                                           OneHotEncoder(handle_unknown='ignore'))]),\n",
       "                                                                                          ['embarked',\n",
       "                                                                                           'sex...\n",
       "                                                'lbfgs', 'sag', 'saga'],\n",
       "                         'preprocessor__data_transformer__categorical__imputer__strategy': ['constant',\n",
       "                                                                                            'most_frequent'],\n",
       "                         'preprocessor__data_transformer__numerical__imputer__strategy': ['mean',\n",
       "                                                                                          'median'],\n",
       "                         'preprocessor__data_transformer__numerical__scaler': [StandardScaler(),\n",
       "                                                                               RobustScaler(),\n",
       "                                                                               MinMaxScaler()],\n",
       "                         'preprocessor__reduce_dim__n_components': [2, 5, 10]},\n",
       "             scoring='accuracy')"
      ]
     },
     "execution_count": 11,
     "metadata": {},
     "output_type": "execute_result"
    }
   ],
   "source": [
    "# Здесь отрисовка самого конвейера\n",
    "\n",
    "clf = GridSearchCV(classifier, \n",
    "                   param_grid=param_grid, \n",
    "                   scoring='accuracy')\n",
    "\n",
    "clf.fit(X_train, y_train)"
   ]
  },
  {
   "cell_type": "code",
   "execution_count": 12,
   "metadata": {},
   "outputs": [
    {
     "data": {
      "text/plain": [
       "{'classifier__C': 1.0,\n",
       " 'classifier__solver': 'liblinear',\n",
       " 'preprocessor__data_transformer__categorical__imputer__strategy': 'constant',\n",
       " 'preprocessor__data_transformer__numerical__imputer__strategy': 'mean',\n",
       " 'preprocessor__data_transformer__numerical__scaler': StandardScaler(),\n",
       " 'preprocessor__reduce_dim__n_components': 10}"
      ]
     },
     "execution_count": 12,
     "metadata": {},
     "output_type": "execute_result"
    }
   ],
   "source": [
    "# Лучшие параметры модели\n",
    "clf.best_params_"
   ]
  },
  {
   "cell_type": "code",
   "execution_count": 13,
   "metadata": {},
   "outputs": [],
   "source": [
    "from sklearn.utils import estimator_html_repr\n",
    "\n",
    "# saving pipeline as html format\n",
    "with open('titanic_data_pipeline_estimator.html', 'w') as f:  \n",
    "    f.write(estimator_html_repr(clf.best_estimator_))"
   ]
  },
  {
   "cell_type": "code",
   "execution_count": 14,
   "metadata": {},
   "outputs": [
    {
     "data": {
      "text/html": [
       "<style>div.sk-top-container {color: black;background-color: white;}div.sk-toggleable {background-color: white;}label.sk-toggleable__label {cursor: pointer;display: block;width: 100%;margin-bottom: 0;padding: 0.2em 0.3em;box-sizing: border-box;text-align: center;}div.sk-toggleable__content {max-height: 0;max-width: 0;overflow: hidden;text-align: left;background-color: #f0f8ff;}div.sk-toggleable__content pre {margin: 0.2em;color: black;border-radius: 0.25em;background-color: #f0f8ff;}input.sk-toggleable__control:checked~div.sk-toggleable__content {max-height: 200px;max-width: 100%;overflow: auto;}div.sk-estimator input.sk-toggleable__control:checked~label.sk-toggleable__label {background-color: #d4ebff;}div.sk-label input.sk-toggleable__control:checked~label.sk-toggleable__label {background-color: #d4ebff;}input.sk-hidden--visually {border: 0;clip: rect(1px 1px 1px 1px);clip: rect(1px, 1px, 1px, 1px);height: 1px;margin: -1px;overflow: hidden;padding: 0;position: absolute;width: 1px;}div.sk-estimator {font-family: monospace;background-color: #f0f8ff;margin: 0.25em 0.25em;border: 1px dotted black;border-radius: 0.25em;box-sizing: border-box;}div.sk-estimator:hover {background-color: #d4ebff;}div.sk-parallel-item::after {content: \"\";width: 100%;border-bottom: 1px solid gray;flex-grow: 1;}div.sk-label:hover label.sk-toggleable__label {background-color: #d4ebff;}div.sk-serial::before {content: \"\";position: absolute;border-left: 1px solid gray;box-sizing: border-box;top: 2em;bottom: 0;left: 50%;}div.sk-serial {display: flex;flex-direction: column;align-items: center;background-color: white;}div.sk-item {z-index: 1;}div.sk-parallel {display: flex;align-items: stretch;justify-content: center;background-color: white;}div.sk-parallel-item {display: flex;flex-direction: column;position: relative;background-color: white;}div.sk-parallel-item:first-child::after {align-self: flex-end;width: 50%;}div.sk-parallel-item:last-child::after {align-self: flex-start;width: 50%;}div.sk-parallel-item:only-child::after {width: 0;}div.sk-dashed-wrapped {border: 1px dashed gray;margin: 0.2em;box-sizing: border-box;padding-bottom: 0.1em;background-color: white;position: relative;}div.sk-label label {font-family: monospace;font-weight: bold;background-color: white;display: inline-block;line-height: 1.2em;}div.sk-label-container {position: relative;z-index: 2;text-align: center;}div.sk-container {display: inline-block;position: relative;}</style><div class=\"sk-top-container\"><div class=\"sk-container\"><div class=\"sk-item sk-dashed-wrapped\"><div class=\"sk-label-container\"><div class=\"sk-label sk-toggleable\"><input class=\"sk-toggleable__control sk-hidden--visually\" id=\"512b1662-b64e-4292-947f-3b7050ada86e\" type=\"checkbox\" ><label class=\"sk-toggleable__label\" for=\"512b1662-b64e-4292-947f-3b7050ada86e\">Pipeline</label><div class=\"sk-toggleable__content\"><pre>Pipeline(steps=[('preprocessor',\n",
       "                 Pipeline(steps=[('data_transformer',\n",
       "                                  ColumnTransformer(transformers=[('numerical',\n",
       "                                                                   Pipeline(steps=[('imputer',\n",
       "                                                                                    SimpleImputer()),\n",
       "                                                                                   ('scaler',\n",
       "                                                                                    StandardScaler())]),\n",
       "                                                                   ['age',\n",
       "                                                                    'fare']),\n",
       "                                                                  ('categorical',\n",
       "                                                                   Pipeline(steps=[('imputer',\n",
       "                                                                                    SimpleImputer(strategy='constant')),\n",
       "                                                                                   ('onehot',\n",
       "                                                                                    OneHotEncoder(handle_unknown='ignore'))]),\n",
       "                                                                   ['embarked',\n",
       "                                                                    'sex',\n",
       "                                                                    'pclass'])])),\n",
       "                                 ('reduce_dim', PCA(n_components=10))])),\n",
       "                ('classifier',\n",
       "                 LogisticRegression(max_iter=10000, random_state=0,\n",
       "                                    solver='liblinear'))])</pre></div></div></div><div class=\"sk-serial\"><div class=\"sk-item\"><div class=\"sk-label-container\"><div class=\"sk-label sk-toggleable\"><input class=\"sk-toggleable__control sk-hidden--visually\" id=\"09738863-f23a-411e-8164-99e3d027b1c9\" type=\"checkbox\" ><label class=\"sk-toggleable__label\" for=\"09738863-f23a-411e-8164-99e3d027b1c9\">preprocessor: Pipeline</label><div class=\"sk-toggleable__content\"><pre>Pipeline(steps=[('data_transformer',\n",
       "                 ColumnTransformer(transformers=[('numerical',\n",
       "                                                  Pipeline(steps=[('imputer',\n",
       "                                                                   SimpleImputer()),\n",
       "                                                                  ('scaler',\n",
       "                                                                   StandardScaler())]),\n",
       "                                                  ['age', 'fare']),\n",
       "                                                 ('categorical',\n",
       "                                                  Pipeline(steps=[('imputer',\n",
       "                                                                   SimpleImputer(strategy='constant')),\n",
       "                                                                  ('onehot',\n",
       "                                                                   OneHotEncoder(handle_unknown='ignore'))]),\n",
       "                                                  ['embarked', 'sex',\n",
       "                                                   'pclass'])])),\n",
       "                ('reduce_dim', PCA(n_components=10))])</pre></div></div></div><div class=\"sk-serial\"><div class=\"sk-item sk-dashed-wrapped\"><div class=\"sk-label-container\"><div class=\"sk-label sk-toggleable\"><input class=\"sk-toggleable__control sk-hidden--visually\" id=\"500741ea-121b-4340-9d78-389a115928d3\" type=\"checkbox\" ><label class=\"sk-toggleable__label\" for=\"500741ea-121b-4340-9d78-389a115928d3\">data_transformer: ColumnTransformer</label><div class=\"sk-toggleable__content\"><pre>ColumnTransformer(transformers=[('numerical',\n",
       "                                 Pipeline(steps=[('imputer', SimpleImputer()),\n",
       "                                                 ('scaler', StandardScaler())]),\n",
       "                                 ['age', 'fare']),\n",
       "                                ('categorical',\n",
       "                                 Pipeline(steps=[('imputer',\n",
       "                                                  SimpleImputer(strategy='constant')),\n",
       "                                                 ('onehot',\n",
       "                                                  OneHotEncoder(handle_unknown='ignore'))]),\n",
       "                                 ['embarked', 'sex', 'pclass'])])</pre></div></div></div><div class=\"sk-parallel\"><div class=\"sk-parallel-item\"><div class=\"sk-item\"><div class=\"sk-label-container\"><div class=\"sk-label sk-toggleable\"><input class=\"sk-toggleable__control sk-hidden--visually\" id=\"20066c26-a814-47d6-ad25-27a109b40409\" type=\"checkbox\" ><label class=\"sk-toggleable__label\" for=\"20066c26-a814-47d6-ad25-27a109b40409\">numerical</label><div class=\"sk-toggleable__content\"><pre>['age', 'fare']</pre></div></div></div><div class=\"sk-serial\"><div class=\"sk-item\"><div class=\"sk-serial\"><div class=\"sk-item\"><div class=\"sk-estimator sk-toggleable\"><input class=\"sk-toggleable__control sk-hidden--visually\" id=\"1bb0ca0b-47a1-4321-8951-5dad1de4aec5\" type=\"checkbox\" ><label class=\"sk-toggleable__label\" for=\"1bb0ca0b-47a1-4321-8951-5dad1de4aec5\">SimpleImputer</label><div class=\"sk-toggleable__content\"><pre>SimpleImputer()</pre></div></div></div><div class=\"sk-item\"><div class=\"sk-estimator sk-toggleable\"><input class=\"sk-toggleable__control sk-hidden--visually\" id=\"d027ae62-c4ec-41b9-aaa2-d87907fc0414\" type=\"checkbox\" ><label class=\"sk-toggleable__label\" for=\"d027ae62-c4ec-41b9-aaa2-d87907fc0414\">StandardScaler</label><div class=\"sk-toggleable__content\"><pre>StandardScaler()</pre></div></div></div></div></div></div></div></div><div class=\"sk-parallel-item\"><div class=\"sk-item\"><div class=\"sk-label-container\"><div class=\"sk-label sk-toggleable\"><input class=\"sk-toggleable__control sk-hidden--visually\" id=\"56e860f7-58c9-4145-adcd-4c99bdb5b396\" type=\"checkbox\" ><label class=\"sk-toggleable__label\" for=\"56e860f7-58c9-4145-adcd-4c99bdb5b396\">categorical</label><div class=\"sk-toggleable__content\"><pre>['embarked', 'sex', 'pclass']</pre></div></div></div><div class=\"sk-serial\"><div class=\"sk-item\"><div class=\"sk-serial\"><div class=\"sk-item\"><div class=\"sk-estimator sk-toggleable\"><input class=\"sk-toggleable__control sk-hidden--visually\" id=\"25c1e961-b75f-4fdb-b46e-880f58fc791a\" type=\"checkbox\" ><label class=\"sk-toggleable__label\" for=\"25c1e961-b75f-4fdb-b46e-880f58fc791a\">SimpleImputer</label><div class=\"sk-toggleable__content\"><pre>SimpleImputer(strategy='constant')</pre></div></div></div><div class=\"sk-item\"><div class=\"sk-estimator sk-toggleable\"><input class=\"sk-toggleable__control sk-hidden--visually\" id=\"ee0a6451-fee6-430e-a095-5858c39aee63\" type=\"checkbox\" ><label class=\"sk-toggleable__label\" for=\"ee0a6451-fee6-430e-a095-5858c39aee63\">OneHotEncoder</label><div class=\"sk-toggleable__content\"><pre>OneHotEncoder(handle_unknown='ignore')</pre></div></div></div></div></div></div></div></div></div></div><div class=\"sk-item\"><div class=\"sk-estimator sk-toggleable\"><input class=\"sk-toggleable__control sk-hidden--visually\" id=\"819d7873-b210-4993-a473-a3449a0baa33\" type=\"checkbox\" ><label class=\"sk-toggleable__label\" for=\"819d7873-b210-4993-a473-a3449a0baa33\">PCA</label><div class=\"sk-toggleable__content\"><pre>PCA(n_components=10)</pre></div></div></div></div></div><div class=\"sk-item\"><div class=\"sk-estimator sk-toggleable\"><input class=\"sk-toggleable__control sk-hidden--visually\" id=\"133957c7-b0fe-4fd2-afd3-962dabab76f7\" type=\"checkbox\" ><label class=\"sk-toggleable__label\" for=\"133957c7-b0fe-4fd2-afd3-962dabab76f7\">LogisticRegression</label><div class=\"sk-toggleable__content\"><pre>LogisticRegression(max_iter=10000, random_state=0, solver='liblinear')</pre></div></div></div></div></div></div></div>"
      ],
      "text/plain": [
       "Pipeline(steps=[('preprocessor',\n",
       "                 Pipeline(steps=[('data_transformer',\n",
       "                                  ColumnTransformer(transformers=[('numerical',\n",
       "                                                                   Pipeline(steps=[('imputer',\n",
       "                                                                                    SimpleImputer()),\n",
       "                                                                                   ('scaler',\n",
       "                                                                                    StandardScaler())]),\n",
       "                                                                   ['age',\n",
       "                                                                    'fare']),\n",
       "                                                                  ('categorical',\n",
       "                                                                   Pipeline(steps=[('imputer',\n",
       "                                                                                    SimpleImputer(strategy='constant')),\n",
       "                                                                                   ('onehot',\n",
       "                                                                                    OneHotEncoder(handle_unknown='ignore'))]),\n",
       "                                                                   ['embarked',\n",
       "                                                                    'sex',\n",
       "                                                                    'pclass'])])),\n",
       "                                 ('reduce_dim', PCA(n_components=10))])),\n",
       "                ('classifier',\n",
       "                 LogisticRegression(max_iter=10000, random_state=0,\n",
       "                                    solver='liblinear'))])"
      ]
     },
     "execution_count": 14,
     "metadata": {},
     "output_type": "execute_result"
    }
   ],
   "source": [
    "# Здесь отрисовка конвейера с лучшими параметрами\n",
    "clf.best_estimator_"
   ]
  },
  {
   "cell_type": "markdown",
   "metadata": {},
   "source": [
    "Для меня очень важно смотреть на метрики, которые выдает конвейер.      \n",
    "Например, топ 5 лучших моделей и их параметры, качество модели на каждом фолде. Это позволяет оценить стабильность модели.      \n",
    "\n",
    "Ниже показан небольшой аналитический отчет:"
   ]
  },
  {
   "cell_type": "code",
   "execution_count": 15,
   "metadata": {},
   "outputs": [
    {
     "name": "stdout",
     "output_type": "stream",
     "text": [
      "Топ 5 моделей по качеству:\n"
     ]
    },
    {
     "data": {
      "text/html": [
       "<div>\n",
       "<style scoped>\n",
       "    .dataframe tbody tr th:only-of-type {\n",
       "        vertical-align: middle;\n",
       "    }\n",
       "\n",
       "    .dataframe tbody tr th {\n",
       "        vertical-align: top;\n",
       "    }\n",
       "\n",
       "    .dataframe thead th {\n",
       "        text-align: right;\n",
       "    }\n",
       "</style>\n",
       "<table border=\"1\" class=\"dataframe\">\n",
       "  <thead>\n",
       "    <tr style=\"text-align: right;\">\n",
       "      <th></th>\n",
       "      <th>mean_fit_time</th>\n",
       "      <th>std_fit_time</th>\n",
       "      <th>mean_score_time</th>\n",
       "      <th>std_score_time</th>\n",
       "      <th>param_classifier__C</th>\n",
       "      <th>param_classifier__solver</th>\n",
       "      <th>param_preprocessor__data_transformer__categorical__imputer__strategy</th>\n",
       "      <th>param_preprocessor__data_transformer__numerical__imputer__strategy</th>\n",
       "      <th>param_preprocessor__data_transformer__numerical__scaler</th>\n",
       "      <th>param_preprocessor__reduce_dim__n_components</th>\n",
       "      <th>params</th>\n",
       "      <th>split0_test_score</th>\n",
       "      <th>split1_test_score</th>\n",
       "      <th>split2_test_score</th>\n",
       "      <th>split3_test_score</th>\n",
       "      <th>split4_test_score</th>\n",
       "      <th>mean_test_score</th>\n",
       "      <th>std_test_score</th>\n",
       "      <th>rank_test_score</th>\n",
       "    </tr>\n",
       "  </thead>\n",
       "  <tbody>\n",
       "    <tr>\n",
       "      <th>0</th>\n",
       "      <td>0.041180</td>\n",
       "      <td>0.003451</td>\n",
       "      <td>0.012049</td>\n",
       "      <td>0.000690</td>\n",
       "      <td>1</td>\n",
       "      <td>newton-cg</td>\n",
       "      <td>constant</td>\n",
       "      <td>mean</td>\n",
       "      <td>StandardScaler()</td>\n",
       "      <td>10</td>\n",
       "      <td>{'classifier__C': 1.0, 'classifier__solver': '...</td>\n",
       "      <td>0.790476</td>\n",
       "      <td>0.814286</td>\n",
       "      <td>0.813397</td>\n",
       "      <td>0.746411</td>\n",
       "      <td>0.77512</td>\n",
       "      <td>0.787938</td>\n",
       "      <td>0.025446</td>\n",
       "      <td>1</td>\n",
       "    </tr>\n",
       "    <tr>\n",
       "      <th>1</th>\n",
       "      <td>0.035408</td>\n",
       "      <td>0.003408</td>\n",
       "      <td>0.010341</td>\n",
       "      <td>0.001253</td>\n",
       "      <td>1</td>\n",
       "      <td>newton-cg</td>\n",
       "      <td>most_frequent</td>\n",
       "      <td>mean</td>\n",
       "      <td>RobustScaler()</td>\n",
       "      <td>10</td>\n",
       "      <td>{'classifier__C': 1.0, 'classifier__solver': '...</td>\n",
       "      <td>0.790476</td>\n",
       "      <td>0.814286</td>\n",
       "      <td>0.813397</td>\n",
       "      <td>0.746411</td>\n",
       "      <td>0.77512</td>\n",
       "      <td>0.787938</td>\n",
       "      <td>0.025446</td>\n",
       "      <td>1</td>\n",
       "    </tr>\n",
       "    <tr>\n",
       "      <th>2</th>\n",
       "      <td>0.035539</td>\n",
       "      <td>0.001819</td>\n",
       "      <td>0.013083</td>\n",
       "      <td>0.000239</td>\n",
       "      <td>1</td>\n",
       "      <td>lbfgs</td>\n",
       "      <td>constant</td>\n",
       "      <td>mean</td>\n",
       "      <td>StandardScaler()</td>\n",
       "      <td>10</td>\n",
       "      <td>{'classifier__C': 1.0, 'classifier__solver': '...</td>\n",
       "      <td>0.790476</td>\n",
       "      <td>0.814286</td>\n",
       "      <td>0.813397</td>\n",
       "      <td>0.746411</td>\n",
       "      <td>0.77512</td>\n",
       "      <td>0.787938</td>\n",
       "      <td>0.025446</td>\n",
       "      <td>1</td>\n",
       "    </tr>\n",
       "    <tr>\n",
       "      <th>3</th>\n",
       "      <td>0.046866</td>\n",
       "      <td>0.009347</td>\n",
       "      <td>0.010026</td>\n",
       "      <td>0.001214</td>\n",
       "      <td>1</td>\n",
       "      <td>saga</td>\n",
       "      <td>constant</td>\n",
       "      <td>mean</td>\n",
       "      <td>StandardScaler()</td>\n",
       "      <td>10</td>\n",
       "      <td>{'classifier__C': 1.0, 'classifier__solver': '...</td>\n",
       "      <td>0.790476</td>\n",
       "      <td>0.814286</td>\n",
       "      <td>0.813397</td>\n",
       "      <td>0.746411</td>\n",
       "      <td>0.77512</td>\n",
       "      <td>0.787938</td>\n",
       "      <td>0.025446</td>\n",
       "      <td>1</td>\n",
       "    </tr>\n",
       "    <tr>\n",
       "      <th>4</th>\n",
       "      <td>0.036710</td>\n",
       "      <td>0.001855</td>\n",
       "      <td>0.012130</td>\n",
       "      <td>0.000862</td>\n",
       "      <td>1</td>\n",
       "      <td>lbfgs</td>\n",
       "      <td>constant</td>\n",
       "      <td>mean</td>\n",
       "      <td>RobustScaler()</td>\n",
       "      <td>10</td>\n",
       "      <td>{'classifier__C': 1.0, 'classifier__solver': '...</td>\n",
       "      <td>0.790476</td>\n",
       "      <td>0.814286</td>\n",
       "      <td>0.813397</td>\n",
       "      <td>0.746411</td>\n",
       "      <td>0.77512</td>\n",
       "      <td>0.787938</td>\n",
       "      <td>0.025446</td>\n",
       "      <td>1</td>\n",
       "    </tr>\n",
       "  </tbody>\n",
       "</table>\n",
       "</div>"
      ],
      "text/plain": [
       "   mean_fit_time  std_fit_time  mean_score_time  std_score_time  \\\n",
       "0       0.041180      0.003451         0.012049        0.000690   \n",
       "1       0.035408      0.003408         0.010341        0.001253   \n",
       "2       0.035539      0.001819         0.013083        0.000239   \n",
       "3       0.046866      0.009347         0.010026        0.001214   \n",
       "4       0.036710      0.001855         0.012130        0.000862   \n",
       "\n",
       "  param_classifier__C param_classifier__solver  \\\n",
       "0                   1                newton-cg   \n",
       "1                   1                newton-cg   \n",
       "2                   1                    lbfgs   \n",
       "3                   1                     saga   \n",
       "4                   1                    lbfgs   \n",
       "\n",
       "  param_preprocessor__data_transformer__categorical__imputer__strategy  \\\n",
       "0                                           constant                     \n",
       "1                                      most_frequent                     \n",
       "2                                           constant                     \n",
       "3                                           constant                     \n",
       "4                                           constant                     \n",
       "\n",
       "  param_preprocessor__data_transformer__numerical__imputer__strategy  \\\n",
       "0                                               mean                   \n",
       "1                                               mean                   \n",
       "2                                               mean                   \n",
       "3                                               mean                   \n",
       "4                                               mean                   \n",
       "\n",
       "  param_preprocessor__data_transformer__numerical__scaler  \\\n",
       "0                                   StandardScaler()        \n",
       "1                                     RobustScaler()        \n",
       "2                                   StandardScaler()        \n",
       "3                                   StandardScaler()        \n",
       "4                                     RobustScaler()        \n",
       "\n",
       "  param_preprocessor__reduce_dim__n_components  \\\n",
       "0                                           10   \n",
       "1                                           10   \n",
       "2                                           10   \n",
       "3                                           10   \n",
       "4                                           10   \n",
       "\n",
       "                                              params  split0_test_score  \\\n",
       "0  {'classifier__C': 1.0, 'classifier__solver': '...           0.790476   \n",
       "1  {'classifier__C': 1.0, 'classifier__solver': '...           0.790476   \n",
       "2  {'classifier__C': 1.0, 'classifier__solver': '...           0.790476   \n",
       "3  {'classifier__C': 1.0, 'classifier__solver': '...           0.790476   \n",
       "4  {'classifier__C': 1.0, 'classifier__solver': '...           0.790476   \n",
       "\n",
       "   split1_test_score  split2_test_score  split3_test_score  split4_test_score  \\\n",
       "0           0.814286           0.813397           0.746411            0.77512   \n",
       "1           0.814286           0.813397           0.746411            0.77512   \n",
       "2           0.814286           0.813397           0.746411            0.77512   \n",
       "3           0.814286           0.813397           0.746411            0.77512   \n",
       "4           0.814286           0.813397           0.746411            0.77512   \n",
       "\n",
       "   mean_test_score  std_test_score  rank_test_score  \n",
       "0         0.787938        0.025446                1  \n",
       "1         0.787938        0.025446                1  \n",
       "2         0.787938        0.025446                1  \n",
       "3         0.787938        0.025446                1  \n",
       "4         0.787938        0.025446                1  "
      ]
     },
     "execution_count": 15,
     "metadata": {},
     "output_type": "execute_result"
    }
   ],
   "source": [
    "print('Топ 5 моделей по качеству:')\n",
    "\n",
    "results = pd.DataFrame(clf.cv_results_)\n",
    "results.sort_values(by='rank_test_score', inplace=True)\n",
    "results = results.reset_index(drop = True)\n",
    "results.head()"
   ]
  },
  {
   "cell_type": "code",
   "execution_count": 16,
   "metadata": {},
   "outputs": [
    {
     "name": "stdout",
     "output_type": "stream",
     "text": [
      "scoring='accuracy'\n",
      "Качество лучшей модели на обучающей выборке:\n",
      "\n",
      "1 фолд: 0.7904761904761904\n",
      "2 фолд: 0.8142857142857143\n",
      "3 фолд: 0.8133971291866029\n",
      "4 фолд: 0.7464114832535885\n",
      "5 фолд: 0.7751196172248804\n",
      "Среднее качество: 0.7879380268853954\n",
      "Стандартное отклонение: 0.025446313084496356\n",
      "\n",
      "Качество лучшей модели на тестовой выборке:\n",
      "\n",
      "accuracy 0.7709923664122137\n",
      "roc_auc 0.7500157579577685\n"
     ]
    }
   ],
   "source": [
    "y_true, y_pred = y_test, clf.predict(X_test)\n",
    "\n",
    "print(\"scoring='accuracy'\")\n",
    "print('Качество лучшей модели на обучающей выборке:')\n",
    "print()\n",
    "print('1 фолд:', results['split0_test_score'][0])\n",
    "print('2 фолд:', results['split1_test_score'][0])\n",
    "print('3 фолд:', results['split2_test_score'][0])\n",
    "print('4 фолд:', results['split3_test_score'][0])\n",
    "print('5 фолд:', results['split4_test_score'][0])\n",
    "print('Среднее качество:', results['mean_test_score'][0])\n",
    "print('Стандартное отклонение:', results['std_test_score'][0])\n",
    "print()\n",
    "print('Качество лучшей модели на тестовой выборке:')\n",
    "print()\n",
    "print('accuracy', accuracy_score(y_true, y_pred))\n",
    "print('roc_auc', roc_auc_score(y_true, y_pred))"
   ]
  },
  {
   "cell_type": "code",
   "execution_count": null,
   "metadata": {},
   "outputs": [],
   "source": []
  }
 ],
 "metadata": {
  "kernelspec": {
   "display_name": "Python 3",
   "language": "python",
   "name": "python3"
  },
  "language_info": {
   "codemirror_mode": {
    "name": "ipython",
    "version": 3
   },
   "file_extension": ".py",
   "mimetype": "text/x-python",
   "name": "python",
   "nbconvert_exporter": "python",
   "pygments_lexer": "ipython3",
   "version": "3.7.4"
  }
 },
 "nbformat": 4,
 "nbformat_minor": 4
}
